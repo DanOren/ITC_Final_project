{
 "cells": [
  {
   "cell_type": "markdown",
   "metadata": {},
   "source": [
    "# 0. Intro"
   ]
  },
  {
   "cell_type": "markdown",
   "metadata": {},
   "source": [
    "** Team Number One ** "
   ]
  },
  {
   "cell_type": "markdown",
   "metadata": {},
   "source": [
    "Work split: \n",
    "- Brian Troib: git set up + data discovery and set up+ first notebook + work on the EDA\n",
    "- Dan Oren: approach + work on modeling (model running).\n",
    "- Michael Ben Mergui: work on modeling + report modeling + report Next steps.\n",
    "- Roy Fassler: work on EDA plots + EDA report."
   ]
  },
  {
   "cell_type": "markdown",
   "metadata": {},
   "source": [
    "# 1. EDA"
   ]
  },
  {
   "cell_type": "code",
   "execution_count": 1,
   "metadata": {
    "ExecuteTime": {
     "end_time": "2021-05-06T17:19:46.627365Z",
     "start_time": "2021-05-06T17:19:45.195679Z"
    }
   },
   "outputs": [],
   "source": [
    "import os\n",
    "import pandas as pd\n",
    "import seaborn as sns\n",
    "\n",
    "from PIL import Image\n",
    "from matplotlib import image\n",
    "from matplotlib import pyplot\n",
    "from matplotlib.pyplot import imread"
   ]
  },
  {
   "cell_type": "code",
   "execution_count": 2,
   "metadata": {
    "ExecuteTime": {
     "end_time": "2021-05-06T17:19:46.636804Z",
     "start_time": "2021-05-06T17:19:46.629756Z"
    }
   },
   "outputs": [],
   "source": [
    "def check_missing(dataframe):\n",
    "    if len(dataframe.columns[dataframe.isnull().any()]) == 0:\n",
    "        print('There are no missing values.')\n",
    "    else:\n",
    "        print('Column Name', ' ', 'Number of Missing Values', ' ', 'Percentage of Total')\n",
    "        for index, value in dataframe.isnull().sum().items():\n",
    "            if value>0:\n",
    "                print(index, ' '*(23-len(index)), value, ' '*(18-len(str(value))),'  ', \n",
    "                      round(value*100/len(dataframe), 2), \"%\")\n",
    "                \n",
    "def check_eda(dataframe):\n",
    "    print('Preview of data: ')\n",
    "    display(dataframe.head(3))\n",
    "    print('\\n', '-'*50, '\\n')\n",
    "    find_shape(dataframe)\n",
    "    print('\\n', '-'*50)\n",
    "    print('\\n Total number of rows, column types and null values:\\n')\n",
    "    print(dataframe.info())\n",
    "    \n",
    "def find_shape(dataframe):\n",
    "    print('Rows:', dataframe.shape[0])\n",
    "    print('Columns:', dataframe.shape[1])\n",
    "    \n",
    "def check_integrity(dataframe):\n",
    "    print('Checking for duplicated rows...')\n",
    "    print('\\nNumber of duplicated rows: ', dataframe[dataframe.duplicated()].shape[0])\n",
    "    if (dataframe[dataframe.duplicated()].shape[0]) > 0:\n",
    "        print('\\nDropping duplicates...')\n",
    "        dataframe.drop_duplicates(inplace=True)\n",
    "        print('\\nDropped.')\n",
    "    print('\\nChecking min, max, mean and STD of numerical features to see if any values are illogical.')\n",
    "    display(dataframe.describe(include='all').transpose())\n",
    "    print('\\nCounting the unique values of non numerical features (including missing values):\\n')\n",
    "    for col in dataframe.select_dtypes(include='object').columns:\n",
    "        print('Count of: ', col)\n",
    "        print(dataframe[col].value_counts(dropna=False), '\\n')"
   ]
  },
  {
   "cell_type": "markdown",
   "metadata": {},
   "source": [
    "#### We will start with reading the files hemorrhage_diagnosis.csv and patient_demographics.csv. The first file contains the labels (hemorrhage type, fracture) for each slice and for each patient and the second file contains information related to the patient such as patient age and gender."
   ]
  },
  {
   "cell_type": "code",
   "execution_count": 3,
   "metadata": {
    "ExecuteTime": {
     "end_time": "2021-05-06T17:19:46.649996Z",
     "start_time": "2021-05-06T17:19:46.640648Z"
    }
   },
   "outputs": [],
   "source": [
    "df_hemorrhage = pd.read_csv('hemorrhage_diagnosis.csv')\n",
    "df_patient = pd.read_csv('patient_demographics.csv')"
   ]
  },
  {
   "cell_type": "markdown",
   "metadata": {},
   "source": [
    "We'll take a look at the header of the dataframes to check that all the names of the columns and the values are aligned."
   ]
  },
  {
   "cell_type": "code",
   "execution_count": 4,
   "metadata": {
    "ExecuteTime": {
     "end_time": "2021-05-06T17:19:46.663296Z",
     "start_time": "2021-05-06T17:19:46.651526Z"
    }
   },
   "outputs": [
    {
     "data": {
      "text/html": [
       "<div>\n",
       "<style scoped>\n",
       "    .dataframe tbody tr th:only-of-type {\n",
       "        vertical-align: middle;\n",
       "    }\n",
       "\n",
       "    .dataframe tbody tr th {\n",
       "        vertical-align: top;\n",
       "    }\n",
       "\n",
       "    .dataframe thead th {\n",
       "        text-align: right;\n",
       "    }\n",
       "</style>\n",
       "<table border=\"1\" class=\"dataframe\">\n",
       "  <thead>\n",
       "    <tr style=\"text-align: right;\">\n",
       "      <th></th>\n",
       "      <th>PatientNumber</th>\n",
       "      <th>SliceNumber</th>\n",
       "      <th>Intraventricular</th>\n",
       "      <th>Intraparenchymal</th>\n",
       "      <th>Subarachnoid</th>\n",
       "      <th>Epidural</th>\n",
       "      <th>Subdural</th>\n",
       "      <th>No_Hemorrhage</th>\n",
       "      <th>Fracture_Yes_No</th>\n",
       "    </tr>\n",
       "  </thead>\n",
       "  <tbody>\n",
       "    <tr>\n",
       "      <th>0</th>\n",
       "      <td>49</td>\n",
       "      <td>1</td>\n",
       "      <td>0</td>\n",
       "      <td>0</td>\n",
       "      <td>0</td>\n",
       "      <td>0</td>\n",
       "      <td>0</td>\n",
       "      <td>1</td>\n",
       "      <td>0</td>\n",
       "    </tr>\n",
       "    <tr>\n",
       "      <th>1</th>\n",
       "      <td>49</td>\n",
       "      <td>2</td>\n",
       "      <td>0</td>\n",
       "      <td>0</td>\n",
       "      <td>0</td>\n",
       "      <td>0</td>\n",
       "      <td>0</td>\n",
       "      <td>1</td>\n",
       "      <td>0</td>\n",
       "    </tr>\n",
       "    <tr>\n",
       "      <th>2</th>\n",
       "      <td>49</td>\n",
       "      <td>3</td>\n",
       "      <td>0</td>\n",
       "      <td>0</td>\n",
       "      <td>0</td>\n",
       "      <td>0</td>\n",
       "      <td>0</td>\n",
       "      <td>1</td>\n",
       "      <td>0</td>\n",
       "    </tr>\n",
       "    <tr>\n",
       "      <th>3</th>\n",
       "      <td>49</td>\n",
       "      <td>4</td>\n",
       "      <td>0</td>\n",
       "      <td>0</td>\n",
       "      <td>0</td>\n",
       "      <td>0</td>\n",
       "      <td>0</td>\n",
       "      <td>1</td>\n",
       "      <td>0</td>\n",
       "    </tr>\n",
       "    <tr>\n",
       "      <th>4</th>\n",
       "      <td>49</td>\n",
       "      <td>5</td>\n",
       "      <td>0</td>\n",
       "      <td>0</td>\n",
       "      <td>0</td>\n",
       "      <td>0</td>\n",
       "      <td>0</td>\n",
       "      <td>1</td>\n",
       "      <td>0</td>\n",
       "    </tr>\n",
       "  </tbody>\n",
       "</table>\n",
       "</div>"
      ],
      "text/plain": [
       "   PatientNumber  SliceNumber  Intraventricular  Intraparenchymal  \\\n",
       "0             49            1                 0                 0   \n",
       "1             49            2                 0                 0   \n",
       "2             49            3                 0                 0   \n",
       "3             49            4                 0                 0   \n",
       "4             49            5                 0                 0   \n",
       "\n",
       "   Subarachnoid  Epidural  Subdural  No_Hemorrhage  Fracture_Yes_No  \n",
       "0             0         0         0              1                0  \n",
       "1             0         0         0              1                0  \n",
       "2             0         0         0              1                0  \n",
       "3             0         0         0              1                0  \n",
       "4             0         0         0              1                0  "
      ]
     },
     "execution_count": 4,
     "metadata": {},
     "output_type": "execute_result"
    }
   ],
   "source": [
    "df_hemorrhage.head()"
   ]
  },
  {
   "cell_type": "code",
   "execution_count": 5,
   "metadata": {
    "ExecuteTime": {
     "end_time": "2021-05-06T17:19:46.676338Z",
     "start_time": "2021-05-06T17:19:46.665039Z"
    }
   },
   "outputs": [
    {
     "data": {
      "text/html": [
       "<div>\n",
       "<style scoped>\n",
       "    .dataframe tbody tr th:only-of-type {\n",
       "        vertical-align: middle;\n",
       "    }\n",
       "\n",
       "    .dataframe tbody tr th {\n",
       "        vertical-align: top;\n",
       "    }\n",
       "\n",
       "    .dataframe thead th {\n",
       "        text-align: right;\n",
       "    }\n",
       "</style>\n",
       "<table border=\"1\" class=\"dataframe\">\n",
       "  <thead>\n",
       "    <tr style=\"text-align: right;\">\n",
       "      <th></th>\n",
       "      <th>Patient Number</th>\n",
       "      <th>Age\\n(years)</th>\n",
       "      <th>Gender</th>\n",
       "      <th>Intraventricular</th>\n",
       "      <th>Intraparenchymal</th>\n",
       "      <th>Subarachnoid</th>\n",
       "      <th>Epidural</th>\n",
       "      <th>Subdural</th>\n",
       "      <th>Fracture (Yes/No)</th>\n",
       "      <th>Condition on file</th>\n",
       "      <th>Note</th>\n",
       "    </tr>\n",
       "  </thead>\n",
       "  <tbody>\n",
       "    <tr>\n",
       "      <th>0</th>\n",
       "      <td>49</td>\n",
       "      <td>35.000000</td>\n",
       "      <td>Male</td>\n",
       "      <td>NaN</td>\n",
       "      <td>1.0</td>\n",
       "      <td>NaN</td>\n",
       "      <td>1.0</td>\n",
       "      <td>NaN</td>\n",
       "      <td>1.0</td>\n",
       "      <td>Intracranial HGE+ Extradural HGE</td>\n",
       "      <td>NaN</td>\n",
       "    </tr>\n",
       "    <tr>\n",
       "      <th>1</th>\n",
       "      <td>50</td>\n",
       "      <td>0.583333</td>\n",
       "      <td>Female</td>\n",
       "      <td>NaN</td>\n",
       "      <td>1.0</td>\n",
       "      <td>NaN</td>\n",
       "      <td>NaN</td>\n",
       "      <td>NaN</td>\n",
       "      <td>1.0</td>\n",
       "      <td>Subdural HGE</td>\n",
       "      <td>NaN</td>\n",
       "    </tr>\n",
       "    <tr>\n",
       "      <th>2</th>\n",
       "      <td>51</td>\n",
       "      <td>5.000000</td>\n",
       "      <td>Male</td>\n",
       "      <td>NaN</td>\n",
       "      <td>1.0</td>\n",
       "      <td>NaN</td>\n",
       "      <td>NaN</td>\n",
       "      <td>1.0</td>\n",
       "      <td>1.0</td>\n",
       "      <td>Extadural HGE</td>\n",
       "      <td>NaN</td>\n",
       "    </tr>\n",
       "    <tr>\n",
       "      <th>3</th>\n",
       "      <td>52</td>\n",
       "      <td>8.000000</td>\n",
       "      <td>Male</td>\n",
       "      <td>NaN</td>\n",
       "      <td>NaN</td>\n",
       "      <td>NaN</td>\n",
       "      <td>1.0</td>\n",
       "      <td>NaN</td>\n",
       "      <td>1.0</td>\n",
       "      <td>Extadural HGE</td>\n",
       "      <td>NaN</td>\n",
       "    </tr>\n",
       "    <tr>\n",
       "      <th>4</th>\n",
       "      <td>53</td>\n",
       "      <td>44.000000</td>\n",
       "      <td>Male</td>\n",
       "      <td>NaN</td>\n",
       "      <td>1.0</td>\n",
       "      <td>NaN</td>\n",
       "      <td>1.0</td>\n",
       "      <td>NaN</td>\n",
       "      <td>1.0</td>\n",
       "      <td>Intracranial HGE+ Extradural HGE</td>\n",
       "      <td>NaN</td>\n",
       "    </tr>\n",
       "  </tbody>\n",
       "</table>\n",
       "</div>"
      ],
      "text/plain": [
       "   Patient Number  Age\\n(years)  Gender  Intraventricular  Intraparenchymal  \\\n",
       "0              49     35.000000    Male               NaN               1.0   \n",
       "1              50      0.583333  Female               NaN               1.0   \n",
       "2              51      5.000000    Male               NaN               1.0   \n",
       "3              52      8.000000    Male               NaN               NaN   \n",
       "4              53     44.000000    Male               NaN               1.0   \n",
       "\n",
       "   Subarachnoid  Epidural  Subdural  Fracture (Yes/No)  \\\n",
       "0           NaN       1.0       NaN                1.0   \n",
       "1           NaN       NaN       NaN                1.0   \n",
       "2           NaN       NaN       1.0                1.0   \n",
       "3           NaN       1.0       NaN                1.0   \n",
       "4           NaN       1.0       NaN                1.0   \n",
       "\n",
       "                   Condition on file Note  \n",
       "0  Intracranial HGE+ Extradural HGE   NaN  \n",
       "1                      Subdural HGE   NaN  \n",
       "2                     Extadural HGE   NaN  \n",
       "3                     Extadural HGE   NaN  \n",
       "4  Intracranial HGE+ Extradural HGE   NaN  "
      ]
     },
     "execution_count": 5,
     "metadata": {},
     "output_type": "execute_result"
    }
   ],
   "source": [
    "df_patient.head()"
   ]
  },
  {
   "cell_type": "markdown",
   "metadata": {},
   "source": [
    "It is also necessary to know the dimensions of the data."
   ]
  },
  {
   "cell_type": "code",
   "execution_count": 6,
   "metadata": {
    "ExecuteTime": {
     "end_time": "2021-05-06T17:19:46.682343Z",
     "start_time": "2021-05-06T17:19:46.679528Z"
    }
   },
   "outputs": [
    {
     "name": "stdout",
     "output_type": "stream",
     "text": [
      "The dataset hemorrhage contains 2501 rows and 9 columns\n",
      "The dataset patient contains 82 rows and 11 columns\n"
     ]
    }
   ],
   "source": [
    "rows, columns = df_hemorrhage.shape\n",
    "print(f\"The dataset hemorrhage contains {rows} rows and {columns} columns\")\n",
    "rows, columns = df_patient.shape\n",
    "print(f\"The dataset patient contains {rows} rows and {columns} columns\")"
   ]
  },
  {
   "cell_type": "code",
   "execution_count": 7,
   "metadata": {
    "ExecuteTime": {
     "end_time": "2021-05-06T17:19:46.687432Z",
     "start_time": "2021-05-06T17:19:46.685079Z"
    }
   },
   "outputs": [],
   "source": [
    "assert df_patient[\"Patient Number\"].is_unique"
   ]
  },
  {
   "cell_type": "code",
   "execution_count": 8,
   "metadata": {
    "ExecuteTime": {
     "end_time": "2021-05-06T17:19:46.692879Z",
     "start_time": "2021-05-06T17:19:46.688771Z"
    }
   },
   "outputs": [
    {
     "data": {
      "text/plain": [
       "30.5"
      ]
     },
     "execution_count": 8,
     "metadata": {},
     "output_type": "execute_result"
    }
   ],
   "source": [
    "df_hemorrhage.groupby(\"PatientNumber\").size().mean()"
   ]
  },
  {
   "cell_type": "markdown",
   "metadata": {},
   "source": [
    "We can see that the data set contains the information of 82 patients and of each one we have the information of certain demographics such as age and gender. Also, in the hemorrhage diagnosis dataset we can see that on average each patient has 30.5 thomography slices. \n",
    "\n",
    "Next we are going to load the thomography slices."
   ]
  },
  {
   "cell_type": "code",
   "execution_count": 9,
   "metadata": {
    "ExecuteTime": {
     "end_time": "2021-05-06T17:23:53.680701Z",
     "start_time": "2021-05-06T17:19:46.694192Z"
    },
    "scrolled": true
   },
   "outputs": [
    {
     "data": {
      "text/html": [
       "<div>\n",
       "<style scoped>\n",
       "    .dataframe tbody tr th:only-of-type {\n",
       "        vertical-align: middle;\n",
       "    }\n",
       "\n",
       "    .dataframe tbody tr th {\n",
       "        vertical-align: top;\n",
       "    }\n",
       "\n",
       "    .dataframe thead th {\n",
       "        text-align: right;\n",
       "    }\n",
       "</style>\n",
       "<table border=\"1\" class=\"dataframe\">\n",
       "  <thead>\n",
       "    <tr style=\"text-align: right;\">\n",
       "      <th></th>\n",
       "      <th>0</th>\n",
       "      <th>1</th>\n",
       "      <th>2</th>\n",
       "      <th>3</th>\n",
       "      <th>4</th>\n",
       "      <th>5</th>\n",
       "      <th>6</th>\n",
       "      <th>7</th>\n",
       "      <th>8</th>\n",
       "      <th>9</th>\n",
       "      <th>...</th>\n",
       "      <th>422490</th>\n",
       "      <th>422491</th>\n",
       "      <th>422492</th>\n",
       "      <th>422493</th>\n",
       "      <th>422494</th>\n",
       "      <th>422495</th>\n",
       "      <th>422496</th>\n",
       "      <th>422497</th>\n",
       "      <th>422498</th>\n",
       "      <th>422499</th>\n",
       "    </tr>\n",
       "  </thead>\n",
       "  <tbody>\n",
       "    <tr>\n",
       "      <th>049-1</th>\n",
       "      <td>0</td>\n",
       "      <td>0</td>\n",
       "      <td>0</td>\n",
       "      <td>0</td>\n",
       "      <td>0</td>\n",
       "      <td>0</td>\n",
       "      <td>0</td>\n",
       "      <td>0</td>\n",
       "      <td>0</td>\n",
       "      <td>0</td>\n",
       "      <td>...</td>\n",
       "      <td>0</td>\n",
       "      <td>0</td>\n",
       "      <td>0</td>\n",
       "      <td>0</td>\n",
       "      <td>0</td>\n",
       "      <td>0</td>\n",
       "      <td>0</td>\n",
       "      <td>0</td>\n",
       "      <td>0</td>\n",
       "      <td>0</td>\n",
       "    </tr>\n",
       "    <tr>\n",
       "      <th>049-2</th>\n",
       "      <td>0</td>\n",
       "      <td>0</td>\n",
       "      <td>0</td>\n",
       "      <td>0</td>\n",
       "      <td>0</td>\n",
       "      <td>0</td>\n",
       "      <td>0</td>\n",
       "      <td>0</td>\n",
       "      <td>0</td>\n",
       "      <td>0</td>\n",
       "      <td>...</td>\n",
       "      <td>0</td>\n",
       "      <td>0</td>\n",
       "      <td>0</td>\n",
       "      <td>0</td>\n",
       "      <td>0</td>\n",
       "      <td>0</td>\n",
       "      <td>0</td>\n",
       "      <td>0</td>\n",
       "      <td>0</td>\n",
       "      <td>0</td>\n",
       "    </tr>\n",
       "    <tr>\n",
       "      <th>049-3</th>\n",
       "      <td>0</td>\n",
       "      <td>0</td>\n",
       "      <td>0</td>\n",
       "      <td>0</td>\n",
       "      <td>0</td>\n",
       "      <td>0</td>\n",
       "      <td>0</td>\n",
       "      <td>0</td>\n",
       "      <td>0</td>\n",
       "      <td>0</td>\n",
       "      <td>...</td>\n",
       "      <td>0</td>\n",
       "      <td>0</td>\n",
       "      <td>0</td>\n",
       "      <td>0</td>\n",
       "      <td>0</td>\n",
       "      <td>0</td>\n",
       "      <td>0</td>\n",
       "      <td>0</td>\n",
       "      <td>0</td>\n",
       "      <td>0</td>\n",
       "    </tr>\n",
       "    <tr>\n",
       "      <th>049-4</th>\n",
       "      <td>0</td>\n",
       "      <td>0</td>\n",
       "      <td>0</td>\n",
       "      <td>0</td>\n",
       "      <td>0</td>\n",
       "      <td>0</td>\n",
       "      <td>0</td>\n",
       "      <td>0</td>\n",
       "      <td>0</td>\n",
       "      <td>0</td>\n",
       "      <td>...</td>\n",
       "      <td>0</td>\n",
       "      <td>0</td>\n",
       "      <td>0</td>\n",
       "      <td>0</td>\n",
       "      <td>0</td>\n",
       "      <td>0</td>\n",
       "      <td>0</td>\n",
       "      <td>0</td>\n",
       "      <td>0</td>\n",
       "      <td>0</td>\n",
       "    </tr>\n",
       "    <tr>\n",
       "      <th>049-5</th>\n",
       "      <td>0</td>\n",
       "      <td>0</td>\n",
       "      <td>0</td>\n",
       "      <td>0</td>\n",
       "      <td>0</td>\n",
       "      <td>0</td>\n",
       "      <td>0</td>\n",
       "      <td>0</td>\n",
       "      <td>0</td>\n",
       "      <td>0</td>\n",
       "      <td>...</td>\n",
       "      <td>0</td>\n",
       "      <td>0</td>\n",
       "      <td>0</td>\n",
       "      <td>0</td>\n",
       "      <td>0</td>\n",
       "      <td>0</td>\n",
       "      <td>0</td>\n",
       "      <td>0</td>\n",
       "      <td>0</td>\n",
       "      <td>0</td>\n",
       "    </tr>\n",
       "    <tr>\n",
       "      <th>...</th>\n",
       "      <td>...</td>\n",
       "      <td>...</td>\n",
       "      <td>...</td>\n",
       "      <td>...</td>\n",
       "      <td>...</td>\n",
       "      <td>...</td>\n",
       "      <td>...</td>\n",
       "      <td>...</td>\n",
       "      <td>...</td>\n",
       "      <td>...</td>\n",
       "      <td>...</td>\n",
       "      <td>...</td>\n",
       "      <td>...</td>\n",
       "      <td>...</td>\n",
       "      <td>...</td>\n",
       "      <td>...</td>\n",
       "      <td>...</td>\n",
       "      <td>...</td>\n",
       "      <td>...</td>\n",
       "      <td>...</td>\n",
       "      <td>...</td>\n",
       "    </tr>\n",
       "    <tr>\n",
       "      <th>130-27</th>\n",
       "      <td>0</td>\n",
       "      <td>0</td>\n",
       "      <td>0</td>\n",
       "      <td>0</td>\n",
       "      <td>0</td>\n",
       "      <td>0</td>\n",
       "      <td>0</td>\n",
       "      <td>0</td>\n",
       "      <td>0</td>\n",
       "      <td>0</td>\n",
       "      <td>...</td>\n",
       "      <td>0</td>\n",
       "      <td>0</td>\n",
       "      <td>0</td>\n",
       "      <td>0</td>\n",
       "      <td>0</td>\n",
       "      <td>0</td>\n",
       "      <td>0</td>\n",
       "      <td>0</td>\n",
       "      <td>0</td>\n",
       "      <td>0</td>\n",
       "    </tr>\n",
       "    <tr>\n",
       "      <th>130-28</th>\n",
       "      <td>0</td>\n",
       "      <td>0</td>\n",
       "      <td>0</td>\n",
       "      <td>0</td>\n",
       "      <td>0</td>\n",
       "      <td>0</td>\n",
       "      <td>0</td>\n",
       "      <td>0</td>\n",
       "      <td>0</td>\n",
       "      <td>0</td>\n",
       "      <td>...</td>\n",
       "      <td>0</td>\n",
       "      <td>0</td>\n",
       "      <td>0</td>\n",
       "      <td>0</td>\n",
       "      <td>0</td>\n",
       "      <td>0</td>\n",
       "      <td>0</td>\n",
       "      <td>0</td>\n",
       "      <td>0</td>\n",
       "      <td>0</td>\n",
       "    </tr>\n",
       "    <tr>\n",
       "      <th>130-29</th>\n",
       "      <td>0</td>\n",
       "      <td>0</td>\n",
       "      <td>0</td>\n",
       "      <td>0</td>\n",
       "      <td>0</td>\n",
       "      <td>0</td>\n",
       "      <td>0</td>\n",
       "      <td>0</td>\n",
       "      <td>0</td>\n",
       "      <td>0</td>\n",
       "      <td>...</td>\n",
       "      <td>0</td>\n",
       "      <td>0</td>\n",
       "      <td>0</td>\n",
       "      <td>0</td>\n",
       "      <td>0</td>\n",
       "      <td>0</td>\n",
       "      <td>0</td>\n",
       "      <td>0</td>\n",
       "      <td>0</td>\n",
       "      <td>0</td>\n",
       "    </tr>\n",
       "    <tr>\n",
       "      <th>130-30</th>\n",
       "      <td>0</td>\n",
       "      <td>0</td>\n",
       "      <td>0</td>\n",
       "      <td>0</td>\n",
       "      <td>0</td>\n",
       "      <td>0</td>\n",
       "      <td>0</td>\n",
       "      <td>0</td>\n",
       "      <td>0</td>\n",
       "      <td>0</td>\n",
       "      <td>...</td>\n",
       "      <td>0</td>\n",
       "      <td>0</td>\n",
       "      <td>0</td>\n",
       "      <td>0</td>\n",
       "      <td>0</td>\n",
       "      <td>0</td>\n",
       "      <td>0</td>\n",
       "      <td>0</td>\n",
       "      <td>0</td>\n",
       "      <td>0</td>\n",
       "    </tr>\n",
       "    <tr>\n",
       "      <th>130-31</th>\n",
       "      <td>0</td>\n",
       "      <td>0</td>\n",
       "      <td>0</td>\n",
       "      <td>0</td>\n",
       "      <td>0</td>\n",
       "      <td>0</td>\n",
       "      <td>0</td>\n",
       "      <td>0</td>\n",
       "      <td>0</td>\n",
       "      <td>0</td>\n",
       "      <td>...</td>\n",
       "      <td>0</td>\n",
       "      <td>0</td>\n",
       "      <td>0</td>\n",
       "      <td>0</td>\n",
       "      <td>0</td>\n",
       "      <td>0</td>\n",
       "      <td>0</td>\n",
       "      <td>0</td>\n",
       "      <td>0</td>\n",
       "      <td>0</td>\n",
       "    </tr>\n",
       "  </tbody>\n",
       "</table>\n",
       "<p>2501 rows × 422500 columns</p>\n",
       "</div>"
      ],
      "text/plain": [
       "        0       1       2       3       4       5       6       7       \\\n",
       "049-1        0       0       0       0       0       0       0       0   \n",
       "049-2        0       0       0       0       0       0       0       0   \n",
       "049-3        0       0       0       0       0       0       0       0   \n",
       "049-4        0       0       0       0       0       0       0       0   \n",
       "049-5        0       0       0       0       0       0       0       0   \n",
       "...        ...     ...     ...     ...     ...     ...     ...     ...   \n",
       "130-27       0       0       0       0       0       0       0       0   \n",
       "130-28       0       0       0       0       0       0       0       0   \n",
       "130-29       0       0       0       0       0       0       0       0   \n",
       "130-30       0       0       0       0       0       0       0       0   \n",
       "130-31       0       0       0       0       0       0       0       0   \n",
       "\n",
       "        8       9       ...  422490  422491  422492  422493  422494  422495  \\\n",
       "049-1        0       0  ...       0       0       0       0       0       0   \n",
       "049-2        0       0  ...       0       0       0       0       0       0   \n",
       "049-3        0       0  ...       0       0       0       0       0       0   \n",
       "049-4        0       0  ...       0       0       0       0       0       0   \n",
       "049-5        0       0  ...       0       0       0       0       0       0   \n",
       "...        ...     ...  ...     ...     ...     ...     ...     ...     ...   \n",
       "130-27       0       0  ...       0       0       0       0       0       0   \n",
       "130-28       0       0  ...       0       0       0       0       0       0   \n",
       "130-29       0       0  ...       0       0       0       0       0       0   \n",
       "130-30       0       0  ...       0       0       0       0       0       0   \n",
       "130-31       0       0  ...       0       0       0       0       0       0   \n",
       "\n",
       "        422496  422497  422498  422499  \n",
       "049-1        0       0       0       0  \n",
       "049-2        0       0       0       0  \n",
       "049-3        0       0       0       0  \n",
       "049-4        0       0       0       0  \n",
       "049-5        0       0       0       0  \n",
       "...        ...     ...     ...     ...  \n",
       "130-27       0       0       0       0  \n",
       "130-28       0       0       0       0  \n",
       "130-29       0       0       0       0  \n",
       "130-30       0       0       0       0  \n",
       "130-31       0       0       0       0  \n",
       "\n",
       "[2501 rows x 422500 columns]"
      ]
     },
     "execution_count": 9,
     "metadata": {},
     "output_type": "execute_result"
    }
   ],
   "source": [
    "# IMAGES_DIRECTORY = 'computed-tomography-images-for-intracranial-hemorrhage-detection-and-segmentation-1.0.0/Patients_CT'\n",
    "# patient = {}\n",
    "# This is for non mac user's split.\n",
    "# for folder in os.listdir(IMAGES_DIRECTORY):\n",
    "#     patient_brain_fodler = IMAGES_DIRECTORY+\"/\"+folder+\"/brain\"\n",
    "#     for image in os.listdir(patient_brain_fodler):\n",
    "#         im =Image.open(patient_brain_fodler+\"/\"+image)\n",
    "#         patient[folder+\"-\"+image[:-4]] = list(im.getdata())\n",
    "#         break\n",
    "#     break\n",
    "\n",
    "#This is for mac user\n",
    "patient = {}\n",
    "for i in range(49, 131):\n",
    "    for j in range(1, len(df_hemorrhage.loc[df_hemorrhage['PatientNumber']==i, 'SliceNumber'])+1):\n",
    "        if i < 100:\n",
    "            im =Image.open(f'computed-tomography-images-for-intracranial-hemorrhage-detection-and-segmentation-1.0.0/Patients_CT/0{i}/brain/{j}.jpg', 'r')\n",
    "            patient[f'0{i}-{j}'] = list(im.getdata())\n",
    "        else:\n",
    "            im =Image.open(f'computed-tomography-images-for-intracranial-hemorrhage-detection-and-segmentation-1.0.0/Patients_CT/{i}/brain/{j}.jpg', 'r')\n",
    "            patient[f'{i}-{j}'] = list(im.getdata())\n",
    "            \n",
    "df_brain = pd.DataFrame(patient)\n",
    "df_brain = df_brain.transpose()\n",
    "df_brain\n",
    "\n",
    "\n",
    "\n",
    "\n"
   ]
  },
  {
   "cell_type": "markdown",
   "metadata": {},
   "source": [
    "Next we are going to transform the dictionary patient to a dataframe df_brain."
   ]
  },
  {
   "cell_type": "code",
   "execution_count": 10,
   "metadata": {
    "ExecuteTime": {
     "end_time": "2021-05-06T17:27:26.885274Z",
     "start_time": "2021-05-06T17:23:53.691855Z"
    }
   },
   "outputs": [],
   "source": [
    "df_brain = pd.DataFrame(patient)\n",
    "df_brain = df_brain.transpose()"
   ]
  },
  {
   "cell_type": "code",
   "execution_count": 11,
   "metadata": {
    "ExecuteTime": {
     "end_time": "2021-05-06T17:27:26.941532Z",
     "start_time": "2021-05-06T17:27:26.892962Z"
    }
   },
   "outputs": [
    {
     "data": {
      "text/html": [
       "<div>\n",
       "<style scoped>\n",
       "    .dataframe tbody tr th:only-of-type {\n",
       "        vertical-align: middle;\n",
       "    }\n",
       "\n",
       "    .dataframe tbody tr th {\n",
       "        vertical-align: top;\n",
       "    }\n",
       "\n",
       "    .dataframe thead th {\n",
       "        text-align: right;\n",
       "    }\n",
       "</style>\n",
       "<table border=\"1\" class=\"dataframe\">\n",
       "  <thead>\n",
       "    <tr style=\"text-align: right;\">\n",
       "      <th></th>\n",
       "      <th>0</th>\n",
       "      <th>1</th>\n",
       "      <th>2</th>\n",
       "      <th>3</th>\n",
       "      <th>4</th>\n",
       "      <th>5</th>\n",
       "      <th>6</th>\n",
       "      <th>7</th>\n",
       "      <th>8</th>\n",
       "      <th>9</th>\n",
       "      <th>...</th>\n",
       "      <th>422490</th>\n",
       "      <th>422491</th>\n",
       "      <th>422492</th>\n",
       "      <th>422493</th>\n",
       "      <th>422494</th>\n",
       "      <th>422495</th>\n",
       "      <th>422496</th>\n",
       "      <th>422497</th>\n",
       "      <th>422498</th>\n",
       "      <th>422499</th>\n",
       "    </tr>\n",
       "  </thead>\n",
       "  <tbody>\n",
       "    <tr>\n",
       "      <th>049-1</th>\n",
       "      <td>0</td>\n",
       "      <td>0</td>\n",
       "      <td>0</td>\n",
       "      <td>0</td>\n",
       "      <td>0</td>\n",
       "      <td>0</td>\n",
       "      <td>0</td>\n",
       "      <td>0</td>\n",
       "      <td>0</td>\n",
       "      <td>0</td>\n",
       "      <td>...</td>\n",
       "      <td>0</td>\n",
       "      <td>0</td>\n",
       "      <td>0</td>\n",
       "      <td>0</td>\n",
       "      <td>0</td>\n",
       "      <td>0</td>\n",
       "      <td>0</td>\n",
       "      <td>0</td>\n",
       "      <td>0</td>\n",
       "      <td>0</td>\n",
       "    </tr>\n",
       "    <tr>\n",
       "      <th>049-2</th>\n",
       "      <td>0</td>\n",
       "      <td>0</td>\n",
       "      <td>0</td>\n",
       "      <td>0</td>\n",
       "      <td>0</td>\n",
       "      <td>0</td>\n",
       "      <td>0</td>\n",
       "      <td>0</td>\n",
       "      <td>0</td>\n",
       "      <td>0</td>\n",
       "      <td>...</td>\n",
       "      <td>0</td>\n",
       "      <td>0</td>\n",
       "      <td>0</td>\n",
       "      <td>0</td>\n",
       "      <td>0</td>\n",
       "      <td>0</td>\n",
       "      <td>0</td>\n",
       "      <td>0</td>\n",
       "      <td>0</td>\n",
       "      <td>0</td>\n",
       "    </tr>\n",
       "    <tr>\n",
       "      <th>049-3</th>\n",
       "      <td>0</td>\n",
       "      <td>0</td>\n",
       "      <td>0</td>\n",
       "      <td>0</td>\n",
       "      <td>0</td>\n",
       "      <td>0</td>\n",
       "      <td>0</td>\n",
       "      <td>0</td>\n",
       "      <td>0</td>\n",
       "      <td>0</td>\n",
       "      <td>...</td>\n",
       "      <td>0</td>\n",
       "      <td>0</td>\n",
       "      <td>0</td>\n",
       "      <td>0</td>\n",
       "      <td>0</td>\n",
       "      <td>0</td>\n",
       "      <td>0</td>\n",
       "      <td>0</td>\n",
       "      <td>0</td>\n",
       "      <td>0</td>\n",
       "    </tr>\n",
       "    <tr>\n",
       "      <th>049-4</th>\n",
       "      <td>0</td>\n",
       "      <td>0</td>\n",
       "      <td>0</td>\n",
       "      <td>0</td>\n",
       "      <td>0</td>\n",
       "      <td>0</td>\n",
       "      <td>0</td>\n",
       "      <td>0</td>\n",
       "      <td>0</td>\n",
       "      <td>0</td>\n",
       "      <td>...</td>\n",
       "      <td>0</td>\n",
       "      <td>0</td>\n",
       "      <td>0</td>\n",
       "      <td>0</td>\n",
       "      <td>0</td>\n",
       "      <td>0</td>\n",
       "      <td>0</td>\n",
       "      <td>0</td>\n",
       "      <td>0</td>\n",
       "      <td>0</td>\n",
       "    </tr>\n",
       "    <tr>\n",
       "      <th>049-5</th>\n",
       "      <td>0</td>\n",
       "      <td>0</td>\n",
       "      <td>0</td>\n",
       "      <td>0</td>\n",
       "      <td>0</td>\n",
       "      <td>0</td>\n",
       "      <td>0</td>\n",
       "      <td>0</td>\n",
       "      <td>0</td>\n",
       "      <td>0</td>\n",
       "      <td>...</td>\n",
       "      <td>0</td>\n",
       "      <td>0</td>\n",
       "      <td>0</td>\n",
       "      <td>0</td>\n",
       "      <td>0</td>\n",
       "      <td>0</td>\n",
       "      <td>0</td>\n",
       "      <td>0</td>\n",
       "      <td>0</td>\n",
       "      <td>0</td>\n",
       "    </tr>\n",
       "  </tbody>\n",
       "</table>\n",
       "<p>5 rows × 422500 columns</p>\n",
       "</div>"
      ],
      "text/plain": [
       "       0       1       2       3       4       5       6       7       8       \\\n",
       "049-1       0       0       0       0       0       0       0       0       0   \n",
       "049-2       0       0       0       0       0       0       0       0       0   \n",
       "049-3       0       0       0       0       0       0       0       0       0   \n",
       "049-4       0       0       0       0       0       0       0       0       0   \n",
       "049-5       0       0       0       0       0       0       0       0       0   \n",
       "\n",
       "       9       ...  422490  422491  422492  422493  422494  422495  422496  \\\n",
       "049-1       0  ...       0       0       0       0       0       0       0   \n",
       "049-2       0  ...       0       0       0       0       0       0       0   \n",
       "049-3       0  ...       0       0       0       0       0       0       0   \n",
       "049-4       0  ...       0       0       0       0       0       0       0   \n",
       "049-5       0  ...       0       0       0       0       0       0       0   \n",
       "\n",
       "       422497  422498  422499  \n",
       "049-1       0       0       0  \n",
       "049-2       0       0       0  \n",
       "049-3       0       0       0  \n",
       "049-4       0       0       0  \n",
       "049-5       0       0       0  \n",
       "\n",
       "[5 rows x 422500 columns]"
      ]
     },
     "execution_count": 11,
     "metadata": {},
     "output_type": "execute_result"
    }
   ],
   "source": [
    "df_brain.head()"
   ]
  },
  {
   "cell_type": "markdown",
   "metadata": {},
   "source": [
    "We can see that the index of our dataframe represents the indetifier of the patient and image and the columns represent each pixel of the image. The size of the images is 650x650 pixels, so it makes sense that we have 422,500 columns\n",
    "\n",
    "$ 650^2 = 422500 $"
   ]
  },
  {
   "cell_type": "markdown",
   "metadata": {},
   "source": [
    "#### General summary statistics\n",
    "\n",
    "Let's start by analyzing df_patient"
   ]
  },
  {
   "cell_type": "code",
   "execution_count": 12,
   "metadata": {
    "ExecuteTime": {
     "end_time": "2021-05-06T17:27:27.034917Z",
     "start_time": "2021-05-06T17:27:26.944071Z"
    }
   },
   "outputs": [
    {
     "data": {
      "text/html": [
       "<div>\n",
       "<style scoped>\n",
       "    .dataframe tbody tr th:only-of-type {\n",
       "        vertical-align: middle;\n",
       "    }\n",
       "\n",
       "    .dataframe tbody tr th {\n",
       "        vertical-align: top;\n",
       "    }\n",
       "\n",
       "    .dataframe thead th {\n",
       "        text-align: right;\n",
       "    }\n",
       "</style>\n",
       "<table border=\"1\" class=\"dataframe\">\n",
       "  <thead>\n",
       "    <tr style=\"text-align: right;\">\n",
       "      <th></th>\n",
       "      <th>Patient Number</th>\n",
       "      <th>Age\\n(years)</th>\n",
       "      <th>Intraventricular</th>\n",
       "      <th>Intraparenchymal</th>\n",
       "      <th>Subarachnoid</th>\n",
       "      <th>Epidural</th>\n",
       "      <th>Subdural</th>\n",
       "      <th>Fracture (Yes/No)</th>\n",
       "    </tr>\n",
       "  </thead>\n",
       "  <tbody>\n",
       "    <tr>\n",
       "      <th>count</th>\n",
       "      <td>82.000000</td>\n",
       "      <td>82.000000</td>\n",
       "      <td>5.0</td>\n",
       "      <td>16.0</td>\n",
       "      <td>7.0</td>\n",
       "      <td>21.0</td>\n",
       "      <td>4.0</td>\n",
       "      <td>22.0</td>\n",
       "    </tr>\n",
       "    <tr>\n",
       "      <th>mean</th>\n",
       "      <td>89.500000</td>\n",
       "      <td>27.843733</td>\n",
       "      <td>1.0</td>\n",
       "      <td>1.0</td>\n",
       "      <td>1.0</td>\n",
       "      <td>1.0</td>\n",
       "      <td>1.0</td>\n",
       "      <td>1.0</td>\n",
       "    </tr>\n",
       "    <tr>\n",
       "      <th>std</th>\n",
       "      <td>23.815261</td>\n",
       "      <td>19.520890</td>\n",
       "      <td>0.0</td>\n",
       "      <td>0.0</td>\n",
       "      <td>0.0</td>\n",
       "      <td>0.0</td>\n",
       "      <td>0.0</td>\n",
       "      <td>0.0</td>\n",
       "    </tr>\n",
       "    <tr>\n",
       "      <th>min</th>\n",
       "      <td>49.000000</td>\n",
       "      <td>0.002747</td>\n",
       "      <td>1.0</td>\n",
       "      <td>1.0</td>\n",
       "      <td>1.0</td>\n",
       "      <td>1.0</td>\n",
       "      <td>1.0</td>\n",
       "      <td>1.0</td>\n",
       "    </tr>\n",
       "    <tr>\n",
       "      <th>25%</th>\n",
       "      <td>69.250000</td>\n",
       "      <td>11.250000</td>\n",
       "      <td>1.0</td>\n",
       "      <td>1.0</td>\n",
       "      <td>1.0</td>\n",
       "      <td>1.0</td>\n",
       "      <td>1.0</td>\n",
       "      <td>1.0</td>\n",
       "    </tr>\n",
       "    <tr>\n",
       "      <th>50%</th>\n",
       "      <td>89.500000</td>\n",
       "      <td>26.000000</td>\n",
       "      <td>1.0</td>\n",
       "      <td>1.0</td>\n",
       "      <td>1.0</td>\n",
       "      <td>1.0</td>\n",
       "      <td>1.0</td>\n",
       "      <td>1.0</td>\n",
       "    </tr>\n",
       "    <tr>\n",
       "      <th>75%</th>\n",
       "      <td>109.750000</td>\n",
       "      <td>40.000000</td>\n",
       "      <td>1.0</td>\n",
       "      <td>1.0</td>\n",
       "      <td>1.0</td>\n",
       "      <td>1.0</td>\n",
       "      <td>1.0</td>\n",
       "      <td>1.0</td>\n",
       "    </tr>\n",
       "    <tr>\n",
       "      <th>max</th>\n",
       "      <td>130.000000</td>\n",
       "      <td>72.000000</td>\n",
       "      <td>1.0</td>\n",
       "      <td>1.0</td>\n",
       "      <td>1.0</td>\n",
       "      <td>1.0</td>\n",
       "      <td>1.0</td>\n",
       "      <td>1.0</td>\n",
       "    </tr>\n",
       "  </tbody>\n",
       "</table>\n",
       "</div>"
      ],
      "text/plain": [
       "       Patient Number  Age\\n(years)  Intraventricular  Intraparenchymal  \\\n",
       "count       82.000000     82.000000               5.0              16.0   \n",
       "mean        89.500000     27.843733               1.0               1.0   \n",
       "std         23.815261     19.520890               0.0               0.0   \n",
       "min         49.000000      0.002747               1.0               1.0   \n",
       "25%         69.250000     11.250000               1.0               1.0   \n",
       "50%         89.500000     26.000000               1.0               1.0   \n",
       "75%        109.750000     40.000000               1.0               1.0   \n",
       "max        130.000000     72.000000               1.0               1.0   \n",
       "\n",
       "       Subarachnoid  Epidural  Subdural  Fracture (Yes/No)  \n",
       "count           7.0      21.0       4.0               22.0  \n",
       "mean            1.0       1.0       1.0                1.0  \n",
       "std             0.0       0.0       0.0                0.0  \n",
       "min             1.0       1.0       1.0                1.0  \n",
       "25%             1.0       1.0       1.0                1.0  \n",
       "50%             1.0       1.0       1.0                1.0  \n",
       "75%             1.0       1.0       1.0                1.0  \n",
       "max             1.0       1.0       1.0                1.0  "
      ]
     },
     "execution_count": 12,
     "metadata": {},
     "output_type": "execute_result"
    }
   ],
   "source": [
    "df_patient.describe()"
   ]
  },
  {
   "cell_type": "code",
   "execution_count": 13,
   "metadata": {
    "ExecuteTime": {
     "end_time": "2021-05-06T17:27:27.064528Z",
     "start_time": "2021-05-06T17:27:27.036802Z"
    }
   },
   "outputs": [
    {
     "name": "stdout",
     "output_type": "stream",
     "text": [
      "<class 'pandas.core.frame.DataFrame'>\n",
      "RangeIndex: 82 entries, 0 to 81\n",
      "Data columns (total 11 columns):\n",
      " #   Column             Non-Null Count  Dtype  \n",
      "---  ------             --------------  -----  \n",
      " 0   Patient Number     82 non-null     int64  \n",
      " 1   Age\n",
      "(years)        82 non-null     float64\n",
      " 2   Gender             82 non-null     object \n",
      " 3   Intraventricular   5 non-null      float64\n",
      " 4   Intraparenchymal   16 non-null     float64\n",
      " 5   Subarachnoid       7 non-null      float64\n",
      " 6   Epidural           21 non-null     float64\n",
      " 7   Subdural           4 non-null      float64\n",
      " 8   Fracture (Yes/No)  22 non-null     float64\n",
      " 9   Condition on file  82 non-null     object \n",
      " 10  Note               1 non-null      object \n",
      "dtypes: float64(7), int64(1), object(3)\n",
      "memory usage: 7.2+ KB\n"
     ]
    }
   ],
   "source": [
    "df_patient.info()"
   ]
  },
  {
   "cell_type": "code",
   "execution_count": 14,
   "metadata": {
    "ExecuteTime": {
     "end_time": "2021-05-06T17:27:27.083695Z",
     "start_time": "2021-05-06T17:27:27.066238Z"
    }
   },
   "outputs": [
    {
     "data": {
      "text/html": [
       "<div>\n",
       "<style scoped>\n",
       "    .dataframe tbody tr th:only-of-type {\n",
       "        vertical-align: middle;\n",
       "    }\n",
       "\n",
       "    .dataframe tbody tr th {\n",
       "        vertical-align: top;\n",
       "    }\n",
       "\n",
       "    .dataframe thead th {\n",
       "        text-align: right;\n",
       "    }\n",
       "</style>\n",
       "<table border=\"1\" class=\"dataframe\">\n",
       "  <thead>\n",
       "    <tr style=\"text-align: right;\">\n",
       "      <th></th>\n",
       "      <th>Gender</th>\n",
       "      <th>Condition on file</th>\n",
       "      <th>Note</th>\n",
       "    </tr>\n",
       "  </thead>\n",
       "  <tbody>\n",
       "    <tr>\n",
       "      <th>count</th>\n",
       "      <td>82</td>\n",
       "      <td>82</td>\n",
       "      <td>1</td>\n",
       "    </tr>\n",
       "    <tr>\n",
       "      <th>unique</th>\n",
       "      <td>2</td>\n",
       "      <td>13</td>\n",
       "      <td>1</td>\n",
       "    </tr>\n",
       "    <tr>\n",
       "      <th>top</th>\n",
       "      <td>Male</td>\n",
       "      <td>Normal CT</td>\n",
       "      <td>Special case, CT scan was after about two week...</td>\n",
       "    </tr>\n",
       "    <tr>\n",
       "      <th>freq</th>\n",
       "      <td>46</td>\n",
       "      <td>47</td>\n",
       "      <td>1</td>\n",
       "    </tr>\n",
       "  </tbody>\n",
       "</table>\n",
       "</div>"
      ],
      "text/plain": [
       "       Gender Condition on file  \\\n",
       "count      82                82   \n",
       "unique      2                13   \n",
       "top      Male         Normal CT   \n",
       "freq       46                47   \n",
       "\n",
       "                                                     Note  \n",
       "count                                                   1  \n",
       "unique                                                  1  \n",
       "top     Special case, CT scan was after about two week...  \n",
       "freq                                                    1  "
      ]
     },
     "execution_count": 14,
     "metadata": {},
     "output_type": "execute_result"
    }
   ],
   "source": [
    "df_patient.describe(include=['O'])"
   ]
  },
  {
   "cell_type": "markdown",
   "metadata": {},
   "source": [
    "Observations:\n",
    "\n",
    "* The average age of the sample is 28 years, and covers a range from 0 to 72 years.\n",
    "* The gender of the sample is balanced: 46 Male and 36 Female.\n",
    "* 57% of the sample has a Normal CT.\n",
    "\n",
    "We can see that when the patient does not present any condition of: Intraventricular, Intraparenchymal, Subarachnoid, Epidural, Subdural or Fracture (Yes / No), it is marked as Nan. A good option is to fillna these columns with the value 0. Also, only one patient has a comment in the Note column.\n",
    "\n",
    "Let's continue with the dataframe df_hemorrhage"
   ]
  },
  {
   "cell_type": "code",
   "execution_count": 15,
   "metadata": {
    "ExecuteTime": {
     "end_time": "2021-05-06T17:27:27.120477Z",
     "start_time": "2021-05-06T17:27:27.086312Z"
    }
   },
   "outputs": [
    {
     "data": {
      "text/html": [
       "<div>\n",
       "<style scoped>\n",
       "    .dataframe tbody tr th:only-of-type {\n",
       "        vertical-align: middle;\n",
       "    }\n",
       "\n",
       "    .dataframe tbody tr th {\n",
       "        vertical-align: top;\n",
       "    }\n",
       "\n",
       "    .dataframe thead th {\n",
       "        text-align: right;\n",
       "    }\n",
       "</style>\n",
       "<table border=\"1\" class=\"dataframe\">\n",
       "  <thead>\n",
       "    <tr style=\"text-align: right;\">\n",
       "      <th></th>\n",
       "      <th>PatientNumber</th>\n",
       "      <th>SliceNumber</th>\n",
       "      <th>Intraventricular</th>\n",
       "      <th>Intraparenchymal</th>\n",
       "      <th>Subarachnoid</th>\n",
       "      <th>Epidural</th>\n",
       "      <th>Subdural</th>\n",
       "      <th>No_Hemorrhage</th>\n",
       "      <th>Fracture_Yes_No</th>\n",
       "    </tr>\n",
       "  </thead>\n",
       "  <tbody>\n",
       "    <tr>\n",
       "      <th>count</th>\n",
       "      <td>2501.000000</td>\n",
       "      <td>2501.000000</td>\n",
       "      <td>2501.000000</td>\n",
       "      <td>2501.000000</td>\n",
       "      <td>2501.000000</td>\n",
       "      <td>2501.000000</td>\n",
       "      <td>2501.000000</td>\n",
       "      <td>2501.000000</td>\n",
       "      <td>2501.000000</td>\n",
       "    </tr>\n",
       "    <tr>\n",
       "      <th>mean</th>\n",
       "      <td>89.591363</td>\n",
       "      <td>15.909636</td>\n",
       "      <td>0.009596</td>\n",
       "      <td>0.029188</td>\n",
       "      <td>0.007197</td>\n",
       "      <td>0.069172</td>\n",
       "      <td>0.022391</td>\n",
       "      <td>0.872851</td>\n",
       "      <td>0.077969</td>\n",
       "    </tr>\n",
       "    <tr>\n",
       "      <th>std</th>\n",
       "      <td>23.762360</td>\n",
       "      <td>9.071176</td>\n",
       "      <td>0.097508</td>\n",
       "      <td>0.168368</td>\n",
       "      <td>0.084547</td>\n",
       "      <td>0.253798</td>\n",
       "      <td>0.147981</td>\n",
       "      <td>0.333207</td>\n",
       "      <td>0.268176</td>\n",
       "    </tr>\n",
       "    <tr>\n",
       "      <th>min</th>\n",
       "      <td>49.000000</td>\n",
       "      <td>1.000000</td>\n",
       "      <td>0.000000</td>\n",
       "      <td>0.000000</td>\n",
       "      <td>0.000000</td>\n",
       "      <td>0.000000</td>\n",
       "      <td>0.000000</td>\n",
       "      <td>0.000000</td>\n",
       "      <td>0.000000</td>\n",
       "    </tr>\n",
       "    <tr>\n",
       "      <th>25%</th>\n",
       "      <td>69.000000</td>\n",
       "      <td>8.000000</td>\n",
       "      <td>0.000000</td>\n",
       "      <td>0.000000</td>\n",
       "      <td>0.000000</td>\n",
       "      <td>0.000000</td>\n",
       "      <td>0.000000</td>\n",
       "      <td>1.000000</td>\n",
       "      <td>0.000000</td>\n",
       "    </tr>\n",
       "    <tr>\n",
       "      <th>50%</th>\n",
       "      <td>90.000000</td>\n",
       "      <td>16.000000</td>\n",
       "      <td>0.000000</td>\n",
       "      <td>0.000000</td>\n",
       "      <td>0.000000</td>\n",
       "      <td>0.000000</td>\n",
       "      <td>0.000000</td>\n",
       "      <td>1.000000</td>\n",
       "      <td>0.000000</td>\n",
       "    </tr>\n",
       "    <tr>\n",
       "      <th>75%</th>\n",
       "      <td>110.000000</td>\n",
       "      <td>23.000000</td>\n",
       "      <td>0.000000</td>\n",
       "      <td>0.000000</td>\n",
       "      <td>0.000000</td>\n",
       "      <td>0.000000</td>\n",
       "      <td>0.000000</td>\n",
       "      <td>1.000000</td>\n",
       "      <td>0.000000</td>\n",
       "    </tr>\n",
       "    <tr>\n",
       "      <th>max</th>\n",
       "      <td>130.000000</td>\n",
       "      <td>40.000000</td>\n",
       "      <td>1.000000</td>\n",
       "      <td>1.000000</td>\n",
       "      <td>1.000000</td>\n",
       "      <td>1.000000</td>\n",
       "      <td>1.000000</td>\n",
       "      <td>1.000000</td>\n",
       "      <td>1.000000</td>\n",
       "    </tr>\n",
       "  </tbody>\n",
       "</table>\n",
       "</div>"
      ],
      "text/plain": [
       "       PatientNumber  SliceNumber  Intraventricular  Intraparenchymal  \\\n",
       "count    2501.000000  2501.000000       2501.000000       2501.000000   \n",
       "mean       89.591363    15.909636          0.009596          0.029188   \n",
       "std        23.762360     9.071176          0.097508          0.168368   \n",
       "min        49.000000     1.000000          0.000000          0.000000   \n",
       "25%        69.000000     8.000000          0.000000          0.000000   \n",
       "50%        90.000000    16.000000          0.000000          0.000000   \n",
       "75%       110.000000    23.000000          0.000000          0.000000   \n",
       "max       130.000000    40.000000          1.000000          1.000000   \n",
       "\n",
       "       Subarachnoid     Epidural     Subdural  No_Hemorrhage  Fracture_Yes_No  \n",
       "count   2501.000000  2501.000000  2501.000000    2501.000000      2501.000000  \n",
       "mean       0.007197     0.069172     0.022391       0.872851         0.077969  \n",
       "std        0.084547     0.253798     0.147981       0.333207         0.268176  \n",
       "min        0.000000     0.000000     0.000000       0.000000         0.000000  \n",
       "25%        0.000000     0.000000     0.000000       1.000000         0.000000  \n",
       "50%        0.000000     0.000000     0.000000       1.000000         0.000000  \n",
       "75%        0.000000     0.000000     0.000000       1.000000         0.000000  \n",
       "max        1.000000     1.000000     1.000000       1.000000         1.000000  "
      ]
     },
     "execution_count": 15,
     "metadata": {},
     "output_type": "execute_result"
    }
   ],
   "source": [
    "df_hemorrhage.describe()"
   ]
  },
  {
   "cell_type": "code",
   "execution_count": 16,
   "metadata": {
    "ExecuteTime": {
     "end_time": "2021-05-06T17:27:27.134161Z",
     "start_time": "2021-05-06T17:27:27.123648Z"
    }
   },
   "outputs": [
    {
     "name": "stdout",
     "output_type": "stream",
     "text": [
      "<class 'pandas.core.frame.DataFrame'>\n",
      "RangeIndex: 2501 entries, 0 to 2500\n",
      "Data columns (total 9 columns):\n",
      " #   Column            Non-Null Count  Dtype\n",
      "---  ------            --------------  -----\n",
      " 0   PatientNumber     2501 non-null   int64\n",
      " 1   SliceNumber       2501 non-null   int64\n",
      " 2   Intraventricular  2501 non-null   int64\n",
      " 3   Intraparenchymal  2501 non-null   int64\n",
      " 4   Subarachnoid      2501 non-null   int64\n",
      " 5   Epidural          2501 non-null   int64\n",
      " 6   Subdural          2501 non-null   int64\n",
      " 7   No_Hemorrhage     2501 non-null   int64\n",
      " 8   Fracture_Yes_No   2501 non-null   int64\n",
      "dtypes: int64(9)\n",
      "memory usage: 176.0 KB\n"
     ]
    }
   ],
   "source": [
    "df_hemorrhage.info()"
   ]
  },
  {
   "cell_type": "markdown",
   "metadata": {},
   "source": [
    "Observations:\n",
    "\n",
    "* 87% of patients are No_Hemorrhage.\n",
    "* The most common hemorrhage is Epidural (6%), followed by Intraparenchymal (2.9%).\n",
    "\n",
    "We can see that in this dataset it has no missing values.\n",
    "\n",
    "As we saw previously, the df_patient dataframe has several columns with missing values, below we can observe the% of null values in each one."
   ]
  },
  {
   "cell_type": "code",
   "execution_count": 17,
   "metadata": {
    "ExecuteTime": {
     "end_time": "2021-05-06T17:27:27.142619Z",
     "start_time": "2021-05-06T17:27:27.137354Z"
    }
   },
   "outputs": [
    {
     "name": "stdout",
     "output_type": "stream",
     "text": [
      "Column Name   Number of Missing Values   Percentage of Total\n",
      "Intraventricular         77                     93.9 %\n",
      "Intraparenchymal         66                     80.49 %\n",
      "Subarachnoid             75                     91.46 %\n",
      "Epidural                 61                     74.39 %\n",
      "Subdural                 78                     95.12 %\n",
      "Fracture (Yes/No)        60                     73.17 %\n",
      "Note                     81                     98.78 %\n"
     ]
    }
   ],
   "source": [
    "check_missing(df_patient)"
   ]
  },
  {
   "cell_type": "markdown",
   "metadata": {},
   "source": [
    "#### Some interesting plots"
   ]
  },
  {
   "cell_type": "code",
   "execution_count": 18,
   "metadata": {
    "ExecuteTime": {
     "end_time": "2021-05-06T17:27:27.554817Z",
     "start_time": "2021-05-06T17:27:27.144659Z"
    }
   },
   "outputs": [
    {
     "data": {
      "image/png": "[encoded data removed]",
      "text/plain": [
       "<Figure size 432x288 with 1 Axes>"
      ]
     },
     "metadata": {
      "needs_background": "light"
     },
     "output_type": "display_data"
    }
   ],
   "source": [
    "sns.kdeplot(data=df_patient, x=\"Age\\n(years)\", shade=True);"
   ]
  },
  {
   "cell_type": "code",
   "execution_count": 19,
   "metadata": {
    "ExecuteTime": {
     "end_time": "2021-05-06T17:27:28.218586Z",
     "start_time": "2021-05-06T17:27:27.556938Z"
    }
   },
   "outputs": [
    {
     "data": {
      "text/plain": [
       "<AxesSubplot:>"
      ]
     },
     "execution_count": 19,
     "metadata": {},
     "output_type": "execute_result"
    },
    {
     "data": {
      "image/png": "[encoded data removed]",
      "text/plain": [
       "<Figure size 432x288 with 2 Axes>"
      ]
     },
     "metadata": {
      "needs_background": "light"
     },
     "output_type": "display_data"
    }
   ],
   "source": [
    "sns.heatmap(df_patient.drop(\"Patient Number\",axis=1).fillna(0).corr(), annot=True)"
   ]
  },
  {
   "cell_type": "code",
   "execution_count": 20,
   "metadata": {
    "ExecuteTime": {
     "end_time": "2021-05-06T17:27:28.222310Z",
     "start_time": "2021-05-06T17:27:28.220286Z"
    }
   },
   "outputs": [],
   "source": [
    "# patient = {}\n",
    "# for i in range(49, 131):\n",
    "#     for j in range(1, len(df_hemorrhage.loc[df_hemorrhage['PatientNumber']==i, 'SliceNumber'])+1):\n",
    "#         if i < 100:\n",
    "#             im =Image.open(f'computed-tomography-images-for-intracranial-hemorrhage-detection-and-segmentation-1.0.0/Patients_CT/0{i}/brain/{j}.jpg', 'r')\n",
    "#             patient[f'0{i}-{j}'] = list(im.getdata())\n",
    "#         else:\n",
    "#             im =Image.open(f'computed-tomography-images-for-intracranial-hemorrhage-detection-and-segmentation-1.0.0/Patients_CT/{i}/brain/{j}.jpg', 'r')\n",
    "#             patient[f'{i}-{j}'] = list(im.getdata())\n",
    "            \n",
    "# df_brain = pd.DataFrame(patient)\n",
    "# df_brain = df_brain.transpose()\n",
    "# df_brain"
   ]
  },
  {
   "cell_type": "markdown",
   "metadata": {},
   "source": [
    "# 2. Model baseline building"
   ]
  },
  {
   "cell_type": "code",
   "execution_count": 21,
   "metadata": {
    "ExecuteTime": {
     "end_time": "2021-05-06T17:27:28.896774Z",
     "start_time": "2021-05-06T17:27:28.227677Z"
    }
   },
   "outputs": [],
   "source": [
    "from sklearn.metrics import confusion_matrix, accuracy_score, recall_score, \\\n",
    "                            precision_score, classification_report, f1_score\n",
    "from sklearn.model_selection import train_test_split"
   ]
  },
  {
   "cell_type": "markdown",
   "metadata": {},
   "source": [
    "## Splitting the Hemorrage_diagnosic dataset"
   ]
  },
  {
   "cell_type": "markdown",
   "metadata": {},
   "source": [
    "We have decided to first focus on predicting, based on our Hemorrage dataset, if the patients have (or not) a brain hemorrhage.  \n",
    "This is a **Classification** problem we are adressing."
   ]
  },
  {
   "cell_type": "markdown",
   "metadata": {},
   "source": [
    "- Target (to predict): 'No_Hemorrhage'.\n",
    "- Features: our brain CT scans from all patients.  "
   ]
  },
  {
   "cell_type": "markdown",
   "metadata": {},
   "source": [
    "We will start by splitting the dataset in a Train (80%). and test sets (20%)."
   ]
  },
  {
   "cell_type": "code",
   "execution_count": 23,
   "metadata": {
    "ExecuteTime": {
     "end_time": "2021-05-06T17:28:30.775956Z",
     "start_time": "2021-05-06T17:28:30.773648Z"
    }
   },
   "outputs": [],
   "source": [
    "X = df_brain\n",
    "y = df_hemorrhage['No_Hemorrhage']"
   ]
  },
  {
   "cell_type": "code",
   "execution_count": 24,
   "metadata": {
    "ExecuteTime": {
     "end_time": "2021-05-06T17:28:32.195385Z",
     "start_time": "2021-05-06T17:28:32.192735Z"
    }
   },
   "outputs": [
    {
     "name": "stdout",
     "output_type": "stream",
     "text": [
      "Model Baseline :0.8728508596561375\n"
     ]
    }
   ],
   "source": [
    "print(f'Model Baseline :{y.sum() / len(y)}')"
   ]
  },
  {
   "cell_type": "code",
   "execution_count": 25,
   "metadata": {
    "ExecuteTime": {
     "end_time": "2021-05-06T17:28:51.799645Z",
     "start_time": "2021-05-06T17:28:32.944234Z"
    },
    "scrolled": true
   },
   "outputs": [
    {
     "name": "stdout",
     "output_type": "stream",
     "text": [
      "Train set: 79.97%\n",
      "Train set: 20.03%\n"
     ]
    }
   ],
   "source": [
    "X_train, X_test, y_train, y_test = train_test_split(X, y,\n",
    "                                                   random_state=42,\n",
    "                                                   test_size=0.2)\n",
    "\n",
    "# Validating \n",
    "print(f\"Train set: {len(X_train)/len(X):.2%}\")\n",
    "print(f\"Train set: {len(X_test)/len(X):.2%}\")"
   ]
  },
  {
   "cell_type": "markdown",
   "metadata": {},
   "source": [
    "We will first apply a simple classification model: **Logistic Regression**."
   ]
  },
  {
   "cell_type": "markdown",
   "metadata": {},
   "source": [
    "We chose this model because it is known to work well for binary classification problems, and we will use it as our baseline.  \n",
    "We will later on also be able to tweak its hyperparameter, i.e. the threshold, to improve its performance."
   ]
  },
  {
   "cell_type": "code",
   "execution_count": 26,
   "metadata": {
    "ExecuteTime": {
     "end_time": "2021-05-06T17:28:52.137437Z",
     "start_time": "2021-05-06T17:28:51.806937Z"
    }
   },
   "outputs": [],
   "source": [
    "from sklearn.linear_model import LogisticRegression"
   ]
  },
  {
   "cell_type": "code",
   "execution_count": 27,
   "metadata": {
    "ExecuteTime": {
     "end_time": "2021-05-06T17:35:02.737061Z",
     "start_time": "2021-05-06T17:28:52.140747Z"
    }
   },
   "outputs": [
    {
     "data": {
      "text/plain": [
       "LogisticRegression(max_iter=1000)"
      ]
     },
     "execution_count": 27,
     "metadata": {},
     "output_type": "execute_result"
    }
   ],
   "source": [
    "clf = LogisticRegression(solver='lbfgs', max_iter=1000)\n",
    "clf.fit(X_train, y_train)"
   ]
  },
  {
   "cell_type": "code",
   "execution_count": 28,
   "metadata": {
    "ExecuteTime": {
     "end_time": "2021-05-06T17:35:09.391795Z",
     "start_time": "2021-05-06T17:35:02.742869Z"
    }
   },
   "outputs": [],
   "source": [
    "y_pred = clf.predict(X_test)"
   ]
  },
  {
   "cell_type": "code",
   "execution_count": 29,
   "metadata": {
    "ExecuteTime": {
     "end_time": "2021-05-06T17:35:09.414098Z",
     "start_time": "2021-05-06T17:35:09.394431Z"
    }
   },
   "outputs": [
    {
     "name": "stdout",
     "output_type": "stream",
     "text": [
      "              precision    recall  f1-score   support\n",
      "\n",
      "           0       0.80      0.79      0.80        62\n",
      "           1       0.97      0.97      0.97       439\n",
      "\n",
      "    accuracy                           0.95       501\n",
      "   macro avg       0.89      0.88      0.88       501\n",
      "weighted avg       0.95      0.95      0.95       501\n",
      "\n"
     ]
    }
   ],
   "source": [
    "print(classification_report(y_test,y_pred))"
   ]
  },
  {
   "cell_type": "markdown",
   "metadata": {},
   "source": [
    "First conclusions of the Logistic Regression performance: \n",
    "- We have got an accuracy of `95%`, which is above the baseline of `87%` which is very good, however we can see that the **recall** and the **percision** for class `0` are around `80%` and we should try to improve them with a better model or more preprocessing. "
   ]
  },
  {
   "cell_type": "markdown",
   "metadata": {},
   "source": [
    "This gives us a good start and makes us confident in being able to model and predict brain hemorrhage from CT scan images."
   ]
  },
  {
   "cell_type": "markdown",
   "metadata": {},
   "source": [
    "# 3. Next steps"
   ]
  },
  {
   "cell_type": "markdown",
   "metadata": {},
   "source": [
    "### Comments"
   ]
  },
  {
   "cell_type": "markdown",
   "metadata": {},
   "source": [
    "- At this stage we did not use bone images, which could allow us to predict another target: \n",
    "- At this stage we did not use patient demographics. which might also give us a few good features on each patient.\n",
    "\n"
   ]
  },
  {
   "cell_type": "markdown",
   "metadata": {},
   "source": [
    "### Main next steps"
   ]
  },
  {
   "cell_type": "markdown",
   "metadata": {},
   "source": [
    "#### A) Build a model to detect intracranial hemorrhages. (0/1)"
   ]
  },
  {
   "cell_type": "markdown",
   "metadata": {},
   "source": [
    "- Deal with very high dimensionality of our dataframes (>40 000 features due to image pixelisation). Options: image resizing, dimensionality reduction methods (e.g. PCA)\n",
    "- Apply other classification ML models on the Hemorrhage classification.\n",
    "- Apply deeplearning (e.g. CNN) with an optimized set of hyperparameters to process the images and increase model performance.\n",
    "- Join and use data from the \"demographics.csv\" file to feed our model.\n"
   ]
  },
  {
   "cell_type": "markdown",
   "metadata": {},
   "source": [
    "#### B) Build a model to segment hemorrhages per type"
   ]
  },
  {
   "cell_type": "markdown",
   "metadata": {},
   "source": [
    "Hemorrhages exist in different types: Intraventricular, Intraparenchymal, Subarachnoid, Epidural and Subdural.  \n",
    "- Build a model to try to classify in the right category. Multi-label classification problem."
   ]
  },
  {
   "cell_type": "markdown",
   "metadata": {},
   "source": [
    "### Possible extra next steps: "
   ]
  },
  {
   "cell_type": "markdown",
   "metadata": {},
   "source": [
    "- Build an API to automate the diagnosis of intracranial hemorrhages by providing the API pictures and receiving back the classification (single or multi-label).\n",
    "- Build a model to identify a brain fracture from a CT scan."
   ]
  }
 ],
 "metadata": {
  "kernelspec": {
   "display_name": "Python 3",
   "language": "python",
   "name": "python3"
  },
  "language_info": {
   "codemirror_mode": {
    "name": "ipython",
    "version": 3
   },
   "file_extension": ".py",
   "mimetype": "text/x-python",
   "name": "python",
   "nbconvert_exporter": "python",
   "pygments_lexer": "ipython3",
   "version": "3.8.5"
  },
  "toc": {
   "base_numbering": 1,
   "nav_menu": {},
   "number_sections": true,
   "sideBar": true,
   "skip_h1_title": false,
   "title_cell": "Table of Contents",
   "title_sidebar": "Contents",
   "toc_cell": false,
   "toc_position": {},
   "toc_section_display": true,
   "toc_window_display": false
  },
  "varInspector": {
   "cols": {
    "lenName": 16,
    "lenType": 16,
    "lenVar": 40
   },
   "kernels_config": {
    "python": {
     "delete_cmd_postfix": "",
     "delete_cmd_prefix": "del ",
     "library": "var_list.py",
     "varRefreshCmd": "print(var_dic_list())"
    },
    "r": {
     "delete_cmd_postfix": ") ",
     "delete_cmd_prefix": "rm(",
     "library": "var_list.r",
     "varRefreshCmd": "cat(var_dic_list()) "
    }
   },
   "types_to_exclude": [
    "module",
    "function",
    "builtin_function_or_method",
    "instance",
    "_Feature"
   ],
   "window_display": false
  }
 },
 "nbformat": 4,
 "nbformat_minor": 4
}
